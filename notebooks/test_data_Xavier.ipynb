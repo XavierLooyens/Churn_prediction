{
 "cells": [
  {
   "cell_type": "markdown",
   "id": "a32a89d0-b896-4133-abd9-fca6c21b0493",
   "metadata": {},
   "source": [
    "# DATA EDA"
   ]
  },
  {
   "cell_type": "markdown",
   "id": "0dd132c3-844b-478f-ab39-f85f91073329",
   "metadata": {},
   "source": [
    "### Imports"
   ]
  },
  {
   "cell_type": "code",
   "execution_count": 66,
   "id": "f34daa20-56f7-4cb3-8203-c0a39ec68944",
   "metadata": {},
   "outputs": [],
   "source": [
    "#Imports\n",
    "import pandas as pd\n",
    "import numpy as np\n",
    "from imblearn.pipeline import make_pipeline\n",
    "from sklearn.preprocessing import StandardScaler, RobustScaler, MinMaxScaler, FunctionTransformer\n",
    "from sklearn.compose import ColumnTransformer\n"
   ]
  },
  {
   "cell_type": "markdown",
   "id": "0e7bc326-ec74-495c-8ff1-5ed80e0406c3",
   "metadata": {},
   "source": [
    "### Dataframes Imports "
   ]
  },
  {
   "cell_type": "code",
   "execution_count": 32,
   "id": "917bd746-056e-4cc1-9199-53d47322c34d",
   "metadata": {},
   "outputs": [],
   "source": [
    "#importing 1st transactions\n",
    "transactions_0_df= pd.read_csv(\"../raw_data/transactions.csv\")\n",
    "#Importing Transactions data\n",
    "transactions_df= pd.read_csv(\"../raw_data/transactions_v2.csv\")\n",
    "#Importing user logs data\n",
    "user_logs_df = pd.read_csv(\"../raw_data/user_logs_v2.csv\")\n",
    "#importing members data\n",
    "members_df = pd.read_csv(\"../raw_data/members_v3.csv\")\n",
    "# import first training dataset\n",
    "train_0_df= pd.read_csv(\"../raw_data/train.csv\")\n",
    "# import training dataset\n",
    "train_df = pd.read_csv(\"../raw_data/train_v2.csv\")\n",
    "# import test dataset\n",
    "test_df = pd.read_csv(\"../raw_data/sample_submission_zero.csv\")\n",
    "# import test dataset 2\n",
    "test_2_df = pd.read_csv(\"../raw_data/sample_submission_v2.csv\")"
   ]
  },
  {
   "cell_type": "markdown",
   "id": "a4f3e998-ddb4-46a7-aeb0-1b3fc0541bc5",
   "metadata": {},
   "source": [
    "### Building trendline"
   ]
  },
  {
   "cell_type": "code",
   "execution_count": 33,
   "id": "2576b777-e0c8-460e-924c-43b7d7749cdf",
   "metadata": {},
   "outputs": [],
   "source": [
    "#concat vertically\n",
    "transactions_df_concat = pd.concat([transactions_0_df, transactions_df], axis=0)\n",
    "\n",
    "#drop duplicates\n",
    "transactions_df_global = transactions_df_concat.drop_duplicates(keep=\"first\")"
   ]
  },
  {
   "cell_type": "code",
   "execution_count": 34,
   "id": "8114b456-3d08-473a-9c9d-fe917a7ef3d3",
   "metadata": {},
   "outputs": [],
   "source": [
    "#concat vertically\n",
    "test_df_concat = pd.concat([test_df, test_2_df], axis=0)\n",
    "\n",
    "#drop duplicates\n",
    "test_df = test_df_concat.drop_duplicates(keep=\"first\")\n"
   ]
  },
  {
   "cell_type": "code",
   "execution_count": 35,
   "id": "2bafcc2f-201b-4921-bd07-454ffe76ef8d",
   "metadata": {
    "scrolled": true
   },
   "outputs": [
    {
     "data": {
      "text/html": [
       "<div>\n",
       "<style scoped>\n",
       "    .dataframe tbody tr th:only-of-type {\n",
       "        vertical-align: middle;\n",
       "    }\n",
       "\n",
       "    .dataframe tbody tr th {\n",
       "        vertical-align: top;\n",
       "    }\n",
       "\n",
       "    .dataframe thead th {\n",
       "        text-align: right;\n",
       "    }\n",
       "</style>\n",
       "<table border=\"1\" class=\"dataframe\">\n",
       "  <thead>\n",
       "    <tr style=\"text-align: right;\">\n",
       "      <th></th>\n",
       "      <th>msno</th>\n",
       "      <th>is_churn</th>\n",
       "      <th>payment_method_id</th>\n",
       "      <th>payment_plan_days</th>\n",
       "      <th>plan_list_price</th>\n",
       "      <th>actual_amount_paid</th>\n",
       "      <th>is_auto_renew</th>\n",
       "      <th>transaction_date</th>\n",
       "      <th>membership_expire_date</th>\n",
       "      <th>is_cancel</th>\n",
       "    </tr>\n",
       "  </thead>\n",
       "  <tbody>\n",
       "    <tr>\n",
       "      <th>0</th>\n",
       "      <td>ugx0CjOMzazClkFzU2xasmDZaoIqOUAZPsH1q0teWCg=</td>\n",
       "      <td>0</td>\n",
       "      <td>38</td>\n",
       "      <td>30</td>\n",
       "      <td>149</td>\n",
       "      <td>149</td>\n",
       "      <td>0</td>\n",
       "      <td>20170228</td>\n",
       "      <td>20170330</td>\n",
       "      <td>0</td>\n",
       "    </tr>\n",
       "    <tr>\n",
       "      <th>1</th>\n",
       "      <td>ugx0CjOMzazClkFzU2xasmDZaoIqOUAZPsH1q0teWCg=</td>\n",
       "      <td>0</td>\n",
       "      <td>31</td>\n",
       "      <td>0</td>\n",
       "      <td>0</td>\n",
       "      <td>149</td>\n",
       "      <td>1</td>\n",
       "      <td>20150331</td>\n",
       "      <td>20150430</td>\n",
       "      <td>0</td>\n",
       "    </tr>\n",
       "    <tr>\n",
       "      <th>2</th>\n",
       "      <td>ugx0CjOMzazClkFzU2xasmDZaoIqOUAZPsH1q0teWCg=</td>\n",
       "      <td>0</td>\n",
       "      <td>31</td>\n",
       "      <td>0</td>\n",
       "      <td>0</td>\n",
       "      <td>149</td>\n",
       "      <td>1</td>\n",
       "      <td>20150630</td>\n",
       "      <td>20150731</td>\n",
       "      <td>0</td>\n",
       "    </tr>\n",
       "    <tr>\n",
       "      <th>3</th>\n",
       "      <td>ugx0CjOMzazClkFzU2xasmDZaoIqOUAZPsH1q0teWCg=</td>\n",
       "      <td>0</td>\n",
       "      <td>31</td>\n",
       "      <td>30</td>\n",
       "      <td>149</td>\n",
       "      <td>149</td>\n",
       "      <td>1</td>\n",
       "      <td>20150902</td>\n",
       "      <td>20150901</td>\n",
       "      <td>1</td>\n",
       "    </tr>\n",
       "    <tr>\n",
       "      <th>4</th>\n",
       "      <td>ugx0CjOMzazClkFzU2xasmDZaoIqOUAZPsH1q0teWCg=</td>\n",
       "      <td>0</td>\n",
       "      <td>31</td>\n",
       "      <td>0</td>\n",
       "      <td>0</td>\n",
       "      <td>149</td>\n",
       "      <td>1</td>\n",
       "      <td>20150831</td>\n",
       "      <td>20150930</td>\n",
       "      <td>0</td>\n",
       "    </tr>\n",
       "    <tr>\n",
       "      <th>...</th>\n",
       "      <td>...</td>\n",
       "      <td>...</td>\n",
       "      <td>...</td>\n",
       "      <td>...</td>\n",
       "      <td>...</td>\n",
       "      <td>...</td>\n",
       "      <td>...</td>\n",
       "      <td>...</td>\n",
       "      <td>...</td>\n",
       "      <td>...</td>\n",
       "    </tr>\n",
       "    <tr>\n",
       "      <th>17130170</th>\n",
       "      <td>r+Eb1hNptQDU/Wa0E+Myg/4+K7XqckAvlEU6xY2r9CQ=</td>\n",
       "      <td>0</td>\n",
       "      <td>41</td>\n",
       "      <td>30</td>\n",
       "      <td>99</td>\n",
       "      <td>99</td>\n",
       "      <td>1</td>\n",
       "      <td>20170201</td>\n",
       "      <td>20170301</td>\n",
       "      <td>0</td>\n",
       "    </tr>\n",
       "    <tr>\n",
       "      <th>17130171</th>\n",
       "      <td>r+Eb1hNptQDU/Wa0E+Myg/4+K7XqckAvlEU6xY2r9CQ=</td>\n",
       "      <td>0</td>\n",
       "      <td>41</td>\n",
       "      <td>30</td>\n",
       "      <td>99</td>\n",
       "      <td>99</td>\n",
       "      <td>1</td>\n",
       "      <td>20160801</td>\n",
       "      <td>20160901</td>\n",
       "      <td>0</td>\n",
       "    </tr>\n",
       "    <tr>\n",
       "      <th>17130172</th>\n",
       "      <td>r+Eb1hNptQDU/Wa0E+Myg/4+K7XqckAvlEU6xY2r9CQ=</td>\n",
       "      <td>0</td>\n",
       "      <td>41</td>\n",
       "      <td>30</td>\n",
       "      <td>99</td>\n",
       "      <td>99</td>\n",
       "      <td>1</td>\n",
       "      <td>20160901</td>\n",
       "      <td>20161001</td>\n",
       "      <td>0</td>\n",
       "    </tr>\n",
       "    <tr>\n",
       "      <th>17130173</th>\n",
       "      <td>r+Eb1hNptQDU/Wa0E+Myg/4+K7XqckAvlEU6xY2r9CQ=</td>\n",
       "      <td>0</td>\n",
       "      <td>41</td>\n",
       "      <td>30</td>\n",
       "      <td>99</td>\n",
       "      <td>99</td>\n",
       "      <td>1</td>\n",
       "      <td>20161201</td>\n",
       "      <td>20170101</td>\n",
       "      <td>0</td>\n",
       "    </tr>\n",
       "    <tr>\n",
       "      <th>17130174</th>\n",
       "      <td>r+Eb1hNptQDU/Wa0E+Myg/4+K7XqckAvlEU6xY2r9CQ=</td>\n",
       "      <td>0</td>\n",
       "      <td>41</td>\n",
       "      <td>30</td>\n",
       "      <td>99</td>\n",
       "      <td>99</td>\n",
       "      <td>1</td>\n",
       "      <td>20170301</td>\n",
       "      <td>20170401</td>\n",
       "      <td>0</td>\n",
       "    </tr>\n",
       "  </tbody>\n",
       "</table>\n",
       "<p>17130175 rows × 10 columns</p>\n",
       "</div>"
      ],
      "text/plain": [
       "                                                  msno  is_churn  \\\n",
       "0         ugx0CjOMzazClkFzU2xasmDZaoIqOUAZPsH1q0teWCg=         0   \n",
       "1         ugx0CjOMzazClkFzU2xasmDZaoIqOUAZPsH1q0teWCg=         0   \n",
       "2         ugx0CjOMzazClkFzU2xasmDZaoIqOUAZPsH1q0teWCg=         0   \n",
       "3         ugx0CjOMzazClkFzU2xasmDZaoIqOUAZPsH1q0teWCg=         0   \n",
       "4         ugx0CjOMzazClkFzU2xasmDZaoIqOUAZPsH1q0teWCg=         0   \n",
       "...                                                ...       ...   \n",
       "17130170  r+Eb1hNptQDU/Wa0E+Myg/4+K7XqckAvlEU6xY2r9CQ=         0   \n",
       "17130171  r+Eb1hNptQDU/Wa0E+Myg/4+K7XqckAvlEU6xY2r9CQ=         0   \n",
       "17130172  r+Eb1hNptQDU/Wa0E+Myg/4+K7XqckAvlEU6xY2r9CQ=         0   \n",
       "17130173  r+Eb1hNptQDU/Wa0E+Myg/4+K7XqckAvlEU6xY2r9CQ=         0   \n",
       "17130174  r+Eb1hNptQDU/Wa0E+Myg/4+K7XqckAvlEU6xY2r9CQ=         0   \n",
       "\n",
       "          payment_method_id  payment_plan_days  plan_list_price  \\\n",
       "0                        38                 30              149   \n",
       "1                        31                  0                0   \n",
       "2                        31                  0                0   \n",
       "3                        31                 30              149   \n",
       "4                        31                  0                0   \n",
       "...                     ...                ...              ...   \n",
       "17130170                 41                 30               99   \n",
       "17130171                 41                 30               99   \n",
       "17130172                 41                 30               99   \n",
       "17130173                 41                 30               99   \n",
       "17130174                 41                 30               99   \n",
       "\n",
       "          actual_amount_paid  is_auto_renew  transaction_date  \\\n",
       "0                        149              0          20170228   \n",
       "1                        149              1          20150331   \n",
       "2                        149              1          20150630   \n",
       "3                        149              1          20150902   \n",
       "4                        149              1          20150831   \n",
       "...                      ...            ...               ...   \n",
       "17130170                  99              1          20170201   \n",
       "17130171                  99              1          20160801   \n",
       "17130172                  99              1          20160901   \n",
       "17130173                  99              1          20161201   \n",
       "17130174                  99              1          20170301   \n",
       "\n",
       "          membership_expire_date  is_cancel  \n",
       "0                       20170330          0  \n",
       "1                       20150430          0  \n",
       "2                       20150731          0  \n",
       "3                       20150901          1  \n",
       "4                       20150930          0  \n",
       "...                          ...        ...  \n",
       "17130170                20170301          0  \n",
       "17130171                20160901          0  \n",
       "17130172                20161001          0  \n",
       "17130173                20170101          0  \n",
       "17130174                20170401          0  \n",
       "\n",
       "[17130175 rows x 10 columns]"
      ]
     },
     "execution_count": 35,
     "metadata": {},
     "output_type": "execute_result"
    }
   ],
   "source": [
    "#merge with transaction data\n",
    "transactions_test_df = pd.merge(test_df, transactions_df_global, on='msno', how='left')\n",
    "transactions_test_df"
   ]
  },
  {
   "cell_type": "code",
   "execution_count": 36,
   "id": "4c42d805-c6d3-418f-87f5-870cb336f725",
   "metadata": {},
   "outputs": [],
   "source": [
    "#convert to datetime\n",
    "transactions_test_df.loc[:,'transaction_date'] = pd.to_datetime(transactions_test_df['transaction_date'], format='%Y%m%d')\n",
    "transactions_test_df.loc[:,'membership_expire_date'] = pd.to_datetime(transactions_test_df['membership_expire_date'], format='%Y%m%d')"
   ]
  },
  {
   "cell_type": "code",
   "execution_count": 37,
   "id": "4690601e-88b6-42b0-9979-eb132ca566d6",
   "metadata": {},
   "outputs": [],
   "source": [
    "# Sort the DataFrame by 'msno' and 'transaction_date'\n",
    "transactions_test_df = transactions_test_df.sort_values(by=['msno', 'transaction_date'], ascending=[True, True],)"
   ]
  },
  {
   "cell_type": "code",
   "execution_count": 38,
   "id": "87196a02-cb9d-4537-9b0e-5ddd919f198d",
   "metadata": {},
   "outputs": [],
   "source": [
    "#compute previous period churn\n",
    "transactions_test_df['transaction_date_-1'] = transactions_test_df.groupby('msno')['transaction_date'].shift(+1)\n",
    "transactions_test_df['membership_expire_date_-1'] = transactions_test_df.groupby('msno')['membership_expire_date'].shift(+1)\n",
    "transactions_test_df['period_0'] = transactions_test_df['membership_expire_date_-1']-transactions_test_df['transaction_date']\n",
    "transactions_test_df['period_0_churn'] = np.where(transactions_test_df['period_0'] <= pd.Timedelta(days=-30), 1, np.where(transactions_test_df['period_0'].isna(), np.nan, 0))\n",
    "\n",
    "transactions_test_df['transaction_date_-2'] = transactions_test_df.groupby('msno')['transaction_date'].shift(+2)\n",
    "transactions_test_df['membership_expire_date_-2'] = transactions_test_df.groupby('msno')['membership_expire_date'].shift(+2)\n",
    "transactions_test_df['period_-1'] = transactions_test_df['membership_expire_date_-2']-transactions_test_df['transaction_date_-1']\n",
    "transactions_test_df['period_-1_churn'] = np.where(transactions_test_df['period_-1'] <= pd.Timedelta(days=-30), 1, np.where(transactions_test_df['period_-1'].isna(), np.nan, 0))\n",
    "\n",
    "\n",
    "transactions_test_df['transaction_date_-3'] = transactions_test_df.groupby('msno')['transaction_date'].shift(+3)\n",
    "transactions_test_df['membership_expire_date_-3'] = transactions_test_df.groupby('msno')['membership_expire_date'].shift(+3)\n",
    "transactions_test_df['period_-2'] = transactions_test_df['membership_expire_date_-3']-transactions_test_df['transaction_date_-2']\n",
    "transactions_test_df['period_-2_churn'] = np.where(transactions_test_df['period_-2'] <= pd.Timedelta(days=-30), 1, np.where(transactions_test_df['period_-2'].isna(), np.nan, 0))\n",
    "\n",
    "\n",
    "transactions_test_df['transaction_date_-4'] = transactions_test_df.groupby('msno')['transaction_date'].shift(+4)\n",
    "transactions_test_df['membership_expire_date_-4'] = transactions_test_df.groupby('msno')['membership_expire_date'].shift(+4)\n",
    "transactions_test_df['period_-3'] = transactions_test_df['membership_expire_date_-4']-transactions_test_df['transaction_date_-3']\n",
    "transactions_test_df['period_-3_churn'] = np.where(transactions_test_df['period_-3'] <= pd.Timedelta(days=-30), 1, np.where(transactions_test_df['period_-3'].isna(), np.nan, 0))\n",
    "\n",
    "\n",
    "transactions_test_df['transaction_date_-5'] = transactions_test_df.groupby('msno')['transaction_date'].shift(+5)\n",
    "transactions_test_df['membership_expire_date_-5'] = transactions_test_df.groupby('msno')['membership_expire_date'].shift(+5)\n",
    "transactions_test_df['period_-4'] = transactions_test_df['membership_expire_date_-5']-transactions_test_df['transaction_date_-4']\n",
    "transactions_test_df['period_-4_churn'] = np.where(transactions_test_df['period_-4'] <= pd.Timedelta(days=-30), 1, np.where(transactions_test_df['period_-4'].isna(), np.nan, 0))\n",
    "\n",
    "\n",
    "transactions_test_df['transaction_date_-6'] = transactions_test_df.groupby('msno')['transaction_date'].shift(+6)\n",
    "transactions_test_df['membership_expire_date_-6'] = transactions_test_df.groupby('msno')['membership_expire_date'].shift(+6)\n",
    "transactions_test_df['period_-5'] = transactions_test_df['membership_expire_date_-6']-transactions_test_df['transaction_date_-5']\n",
    "transactions_test_df['period_-5_churn'] = np.where(transactions_test_df['period_-5'] <= pd.Timedelta(days=-30), 1, np.where(transactions_test_df['period_-5'].isna(), np.nan, 0))\n",
    "\n",
    "\n"
   ]
  },
  {
   "cell_type": "code",
   "execution_count": 39,
   "id": "85347080-39e9-45bf-bbd9-f3589d671796",
   "metadata": {},
   "outputs": [],
   "source": [
    "#only keeping rows with the latest transactions \n",
    "latest_transaction_indexes = transactions_test_df.groupby('msno')['transaction_date'].idxmax()\n",
    "latest_transactions_with_churn = transactions_test_df.loc[latest_transaction_indexes]"
   ]
  },
  {
   "cell_type": "code",
   "execution_count": 40,
   "id": "fce71f1f-fdbd-46d9-b4cc-65ec42fba7f3",
   "metadata": {},
   "outputs": [],
   "source": [
    "# removing unnecessary columns\n",
    "trendline_df = latest_transactions_with_churn.drop(axis=1, columns=[\n",
    "    'transaction_date_-1',\n",
    "    'membership_expire_date_-1',\n",
    "    'period_0',\n",
    "    'transaction_date_-2',\n",
    "    'membership_expire_date_-2',\n",
    "    'period_-1',\n",
    "    'transaction_date_-3',\n",
    "    'membership_expire_date_-3',\n",
    "    'period_-2',\n",
    "    'transaction_date_-4',\n",
    "    'membership_expire_date_-4',\n",
    "    'period_-3',\n",
    "    'transaction_date_-5',\n",
    "    'membership_expire_date_-5',\n",
    "    'period_-4',\n",
    "    'transaction_date_-6',\n",
    "    'membership_expire_date_-6',\n",
    "    'period_-5',\n",
    "    'is_churn',\n",
    "    'payment_method_id',\n",
    "    'payment_plan_days',\n",
    "    'plan_list_price',\n",
    "    'actual_amount_paid',\n",
    "    'is_auto_renew',\n",
    "    'transaction_date',\n",
    "    'membership_expire_date',\n",
    "    'is_cancel'\n",
    "])\n",
    "                                                                        "
   ]
  },
  {
   "cell_type": "markdown",
   "id": "6fa722f9-d842-411c-bbbb-9d3b46582b4e",
   "metadata": {},
   "source": [
    "### Transactions Data"
   ]
  },
  {
   "cell_type": "code",
   "execution_count": 41,
   "id": "7a7b56bd-8d00-45df-9cb8-12a94e9298fd",
   "metadata": {},
   "outputs": [],
   "source": [
    "###### converting transaction_date and membership_date to datetime object\n",
    "transactions_df['transaction_date'] = pd.to_datetime(transactions_df['transaction_date'], format='%Y%m%d')\n",
    "transactions_df['membership_expire_date'] = pd.to_datetime(transactions_df['membership_expire_date'], format='%Y%m%d')\n",
    "\n",
    "# removing duplicates and leaving only the latest transaction date\n",
    "transactions_df_lt = transactions_df.loc[transactions_df.groupby('msno').transaction_date.idxmax()]\n",
    "\n",
    "# creating remaining plan duration column\n",
    "transactions_df_lt['remaining_plan_duration'] = transactions_df_lt['membership_expire_date'] - transactions_df_lt['transaction_date']\n",
    "\n",
    "# creating discount column\n",
    "transactions_df_lt['is_discount'] = transactions_df_lt.apply(lambda x: '0' if (x['actual_amount_paid'] -x['plan_list_price'])>=0 else '1', axis=1)"
   ]
  },
  {
   "cell_type": "markdown",
   "id": "b4a1472c-8948-485d-9a11-13fbe4f435ab",
   "metadata": {},
   "source": [
    "### User logs Data"
   ]
  },
  {
   "cell_type": "code",
   "execution_count": 42,
   "id": "99a982f4-aeb9-4bc8-b305-7548940c9b5c",
   "metadata": {},
   "outputs": [],
   "source": [
    "# Converting date into datetime object\n",
    "user_logs_df['date'] = pd.to_datetime(user_logs_df['date'], format='%Y%m%d')\n",
    "\n",
    "#create new dataframe from transactions table with only msno and latest transaction date\n",
    "latest_transactions_per_msno = transactions_df_lt[['msno', 'transaction_date']]\n",
    "\n",
    "#Merge user logs with latest transaction date\n",
    "merged_df = user_logs_df.merge(latest_transactions_per_msno, on='msno', how='left')\n",
    "\n",
    "# drop msno's where transaction date is NaN\n",
    "merged_df = merged_df.dropna(subset=['transaction_date'])\n",
    "\n",
    "#removing rows where the user log data is before the last transaction date\n",
    "user_logs_atd= merged_df.loc[merged_df['date']>=merged_df['transaction_date']]\n",
    "\n",
    "# removing data column\n",
    "user_logs_atd = user_logs_atd.drop(columns=['date','transaction_date'])\n",
    "\n",
    "#groupby msno and summing all values\n",
    "user_logs_atd = user_logs_atd.groupby('msno').sum()"
   ]
  },
  {
   "cell_type": "markdown",
   "id": "6a652f3c-944d-4229-a130-a2b216c22e09",
   "metadata": {},
   "source": [
    "### Merging"
   ]
  },
  {
   "cell_type": "code",
   "execution_count": 43,
   "id": "78d1507e-a07b-4baa-9cb8-137220712ca7",
   "metadata": {},
   "outputs": [],
   "source": [
    "# Merging transactions, user logs and members data to Train dataframe\n",
    "test_df = test_df.merge(transactions_df_lt, on='msno', how='left')\n",
    "test_df = test_df.merge(user_logs_atd, on='msno', how='left')\n",
    "test_df = test_df.merge(members_df, on='msno', how='left')\n",
    "test_df = test_df.merge(trendline_df, on='msno', how='left')"
   ]
  },
  {
   "cell_type": "markdown",
   "id": "c5cb416a-517e-44cb-bf0d-af2665d02fdd",
   "metadata": {},
   "source": [
    "### Feature engineering"
   ]
  },
  {
   "cell_type": "code",
   "execution_count": 47,
   "id": "ebae0f3b-6337-459d-8df2-11b11765d6b9",
   "metadata": {},
   "outputs": [],
   "source": [
    "# Drop Gender column\n",
    "test_df = test_df.drop(['gender'],axis=1)"
   ]
  },
  {
   "cell_type": "code",
   "execution_count": 48,
   "id": "df5d0f57-3e97-4355-9fea-50b7c043a67f",
   "metadata": {},
   "outputs": [],
   "source": [
    "# Drop NaN\n",
    "test_df = test_df.dropna()"
   ]
  },
  {
   "cell_type": "code",
   "execution_count": 49,
   "id": "9854d09c-13b6-4851-8f48-eb2004c8b6f2",
   "metadata": {},
   "outputs": [],
   "source": [
    "# Changing bd outliers to NaN\n",
    "test_df['bd'] = test_df['bd'].apply(lambda x: np.nan if x <14 or x > 75 else x)"
   ]
  },
  {
   "cell_type": "code",
   "execution_count": 50,
   "id": "6d9c9026-f258-4d1a-a8d0-027a1790d723",
   "metadata": {},
   "outputs": [],
   "source": [
    "# Converting remaining plan duration to int\n",
    "test_df['remaining_plan_duration'] = test_df['remaining_plan_duration'].dt.days"
   ]
  },
  {
   "cell_type": "code",
   "execution_count": 51,
   "id": "4822b1eb-79a3-4708-8449-4f1e3d18dd7d",
   "metadata": {},
   "outputs": [],
   "source": [
    "# Converting total seconds to hours\n",
    "test_df['total_secs']= round(test_df['total_secs']/3600,2)"
   ]
  },
  {
   "cell_type": "code",
   "execution_count": 52,
   "id": "f302f5ac-d1e9-46d0-a52e-2b72a55c3695",
   "metadata": {},
   "outputs": [],
   "source": [
    "# Creating average usage (hours) per day from latest transaction\n",
    "test_df['usage_from_ltd'] = round(test_df['total_secs']/test_df['remaining_plan_duration'],2)\n",
    "# replacing Nan with 0 \n",
    "test_df['usage_from_ltd'].replace([np.nan], 0, inplace=True)\n",
    "# replacing inf values with the totalsecs usage.\n",
    "test_df['usage_from_ltd'] = np.where(test_df['usage_from_ltd'] == np.inf, test_df['total_secs'],test_df['usage_from_ltd'])"
   ]
  },
  {
   "cell_type": "code",
   "execution_count": 53,
   "id": "55cf16b7-5361-450e-9276-485fca8cfd27",
   "metadata": {},
   "outputs": [],
   "source": [
    "# converting registration time to datetime object\n",
    "test_df['registration_init_time'] = pd.to_datetime(test_df['registration_init_time'], format='%Y%m%d')"
   ]
  },
  {
   "cell_type": "code",
   "execution_count": 54,
   "id": "91e7a3f0-f687-4086-b2af-869f5b243f34",
   "metadata": {},
   "outputs": [],
   "source": [
    "# creating discount percentage column\n",
    "test_df['discount_percentage'] = round((test_df['plan_list_price'] - test_df['actual_amount_paid'])/test_df['plan_list_price'],2)\n",
    "\n",
    "test_df['discount_percentage'].replace([np.nan,-0.01,0.01], 0, inplace=True)"
   ]
  },
  {
   "cell_type": "markdown",
   "id": "f7b32396-0b7b-45d9-b8ed-6cb86d80e984",
   "metadata": {},
   "source": [
    "### Cyclic Encoding"
   ]
  },
  {
   "cell_type": "code",
   "execution_count": 55,
   "id": "9dfb1c1d-bf4f-48bc-8772-9c9e9a698356",
   "metadata": {},
   "outputs": [],
   "source": [
    "def encode(data, col, max_val):\n",
    "    data[col + '_sin'] = np.sin(2 * np.pi * data[col]/max_val)\n",
    "    data[col + '_cos'] = np.cos(2 * np.pi * data[col]/max_val)\n",
    "    return data"
   ]
  },
  {
   "cell_type": "code",
   "execution_count": 56,
   "id": "1ab47860-1b47-48dd-9232-aa3b38bc4525",
   "metadata": {},
   "outputs": [],
   "source": [
    "# cyclic encoding transaction date\n",
    "#year\n",
    "test_df['last_transaction_year'] = test_df['transaction_date'].dt.year\n",
    "\n",
    "#month\n",
    "test_df['last_transaction_month'] = test_df['transaction_date'].dt.month\n",
    "test_df = encode(test_df, 'last_transaction_month', 12)\n",
    "\n",
    "#day\n",
    "test_df['last_transaction_day'] = test_df['transaction_date'].dt.day\n",
    "test_df= encode(test_df, 'last_transaction_day', 31)\n",
    "\n",
    "test_df =test_df.drop(['last_transaction_month', 'last_transaction_day'],axis=1)"
   ]
  },
  {
   "cell_type": "code",
   "execution_count": 57,
   "id": "872c1de1-55a1-4021-84e5-527ff29203a5",
   "metadata": {},
   "outputs": [],
   "source": [
    "# cyclic encoding membership expire date\n",
    "#year\n",
    "test_df['expire_year'] = test_df['membership_expire_date'].dt.year\n",
    "\n",
    "#month\n",
    "test_df['expire_month'] = test_df['membership_expire_date'].dt.month\n",
    "test_df = encode(test_df, 'expire_month', 12)\n",
    "\n",
    "#day\n",
    "test_df['expire_day'] = test_df['membership_expire_date'].dt.day\n",
    "test_df= encode(test_df, 'expire_day', 31)\n",
    "\n",
    "# droping month and day columns\n",
    "test_df =test_df.drop(['expire_month', 'expire_day'],axis=1)"
   ]
  },
  {
   "cell_type": "code",
   "execution_count": 58,
   "id": "8a96d5c2-f5dd-4b93-b660-b283f3e0dc45",
   "metadata": {},
   "outputs": [],
   "source": [
    "# cyclic encoding registration date\n",
    "#year\n",
    "test_df['registration_year'] = test_df['registration_init_time'].dt.year\n",
    "\n",
    "#month\n",
    "test_df['registration_month'] = test_df['registration_init_time'].dt.month\n",
    "test_df = encode(test_df, 'registration_month', 12)\n",
    "\n",
    "#day\n",
    "test_df['registration_day'] = test_df['registration_init_time'].dt.day\n",
    "test_df= encode(test_df, 'registration_day', 31)\n",
    "\n",
    "# droping month and day columns\n",
    "test_df =test_df.drop(['registration_month', 'registration_day'],axis=1)\n"
   ]
  },
  {
   "cell_type": "code",
   "execution_count": 59,
   "id": "3d3644fd-e69e-4354-b717-66f5b451176d",
   "metadata": {},
   "outputs": [],
   "source": [
    "# droping date columns to avoid data leakage\n",
    "test_df =test_df.drop(['registration_init_time', 'membership_expire_date', 'transaction_date'],axis=1)"
   ]
  },
  {
   "cell_type": "code",
   "execution_count": 60,
   "id": "d783ff36-1d26-4fda-b133-555680138061",
   "metadata": {
    "scrolled": true
   },
   "outputs": [
    {
     "name": "stdout",
     "output_type": "stream",
     "text": [
      "<class 'pandas.core.frame.DataFrame'>\n",
      "Index: 568823 entries, 2 to 1076940\n",
      "Data columns (total 43 columns):\n",
      " #   Column                      Non-Null Count   Dtype  \n",
      "---  ------                      --------------   -----  \n",
      " 0   msno                        568823 non-null  object \n",
      " 1   is_churn                    568823 non-null  int64  \n",
      " 2   payment_method_id           568823 non-null  float64\n",
      " 3   payment_plan_days           568823 non-null  float64\n",
      " 4   plan_list_price             568823 non-null  float64\n",
      " 5   actual_amount_paid          568823 non-null  float64\n",
      " 6   is_auto_renew               568823 non-null  float64\n",
      " 7   is_cancel                   568823 non-null  float64\n",
      " 8   remaining_plan_duration     568823 non-null  int64  \n",
      " 9   is_discount                 568823 non-null  object \n",
      " 10  num_25                      568823 non-null  float64\n",
      " 11  num_50                      568823 non-null  float64\n",
      " 12  num_75                      568823 non-null  float64\n",
      " 13  num_985                     568823 non-null  float64\n",
      " 14  num_100                     568823 non-null  float64\n",
      " 15  num_unq                     568823 non-null  float64\n",
      " 16  total_secs                  568823 non-null  float64\n",
      " 17  city                        568823 non-null  float64\n",
      " 18  bd                          269002 non-null  float64\n",
      " 19  registered_via              568823 non-null  float64\n",
      " 20  period_0_churn              568823 non-null  float64\n",
      " 21  period_-1_churn             568823 non-null  float64\n",
      " 22  period_-2_churn             568823 non-null  float64\n",
      " 23  period_-3_churn             568823 non-null  float64\n",
      " 24  period_-4_churn             568823 non-null  float64\n",
      " 25  period_-5_churn             568823 non-null  float64\n",
      " 26  usage_from_ltd              568823 non-null  float64\n",
      " 27  discount_percentage         568823 non-null  float64\n",
      " 28  last_transaction_year       568823 non-null  int32  \n",
      " 29  last_transaction_month_sin  568823 non-null  float64\n",
      " 30  last_transaction_month_cos  568823 non-null  float64\n",
      " 31  last_transaction_day_sin    568823 non-null  float64\n",
      " 32  last_transaction_day_cos    568823 non-null  float64\n",
      " 33  expire_year                 568823 non-null  int32  \n",
      " 34  expire_month_sin            568823 non-null  float64\n",
      " 35  expire_month_cos            568823 non-null  float64\n",
      " 36  expire_day_sin              568823 non-null  float64\n",
      " 37  expire_day_cos              568823 non-null  float64\n",
      " 38  registration_year           568823 non-null  int32  \n",
      " 39  registration_month_sin      568823 non-null  float64\n",
      " 40  registration_month_cos      568823 non-null  float64\n",
      " 41  registration_day_sin        568823 non-null  float64\n",
      " 42  registration_day_cos        568823 non-null  float64\n",
      "dtypes: float64(36), int32(3), int64(2), object(2)\n",
      "memory usage: 184.4+ MB\n"
     ]
    }
   ],
   "source": [
    "test_df.info()"
   ]
  },
  {
   "cell_type": "code",
   "execution_count": 61,
   "id": "00ab4a58-3ff2-4439-870f-7dd79504316d",
   "metadata": {},
   "outputs": [
    {
     "data": {
      "text/plain": [
       "is_churn\n",
       "0    568823\n",
       "Name: count, dtype: int64"
      ]
     },
     "execution_count": 61,
     "metadata": {},
     "output_type": "execute_result"
    }
   ],
   "source": [
    "test_df.value_counts('is_churn')"
   ]
  },
  {
   "cell_type": "markdown",
   "id": "b94de73d-072e-4b68-8faf-63b3fbad3b4b",
   "metadata": {},
   "source": [
    "## export not preprocessed test_df to csv"
   ]
  },
  {
   "cell_type": "code",
   "execution_count": 62,
   "id": "105ac794-b61c-46ef-a3b8-042b11852430",
   "metadata": {},
   "outputs": [],
   "source": [
    "# Export to CSV\n",
    "test_df.to_csv('test.csv', index=False)"
   ]
  },
  {
   "cell_type": "markdown",
   "id": "01045bad-a4ff-4529-b86a-14e0a451470d",
   "metadata": {},
   "source": [
    "## preprocess test_df"
   ]
  },
  {
   "cell_type": "code",
   "execution_count": 75,
   "id": "db64f9bd-057e-4bc5-882b-2b6dcd987f9d",
   "metadata": {},
   "outputs": [
    {
     "ename": "KeyError",
     "evalue": "\"['msno', 'bd', 'payment_method_id', 'city', 'registered_via'] not found in axis\"",
     "output_type": "error",
     "traceback": [
      "\u001b[0;31m---------------------------------------------------------------------------\u001b[0m",
      "\u001b[0;31mKeyError\u001b[0m                                  Traceback (most recent call last)",
      "Cell \u001b[0;32mIn[75], line 2\u001b[0m\n\u001b[1;32m      1\u001b[0m \u001b[38;5;66;03m#dropping invaluable columns based on feature importance (see model notebooks)\u001b[39;00m\n\u001b[0;32m----> 2\u001b[0m test_df \u001b[38;5;241m=\u001b[39m \u001b[43mtest_df\u001b[49m\u001b[38;5;241;43m.\u001b[39;49m\u001b[43mdrop\u001b[49m\u001b[43m(\u001b[49m\u001b[43m[\u001b[49m\u001b[38;5;124;43m'\u001b[39;49m\u001b[38;5;124;43mmsno\u001b[39;49m\u001b[38;5;124;43m'\u001b[39;49m\u001b[43m,\u001b[49m\u001b[43m \u001b[49m\u001b[38;5;124;43m'\u001b[39;49m\u001b[38;5;124;43mbd\u001b[39;49m\u001b[38;5;124;43m'\u001b[39;49m\u001b[43m,\u001b[49m\u001b[43m \u001b[49m\u001b[38;5;124;43m'\u001b[39;49m\u001b[38;5;124;43mpayment_method_id\u001b[39;49m\u001b[38;5;124;43m'\u001b[39;49m\u001b[43m,\u001b[49m\u001b[43m \u001b[49m\u001b[38;5;124;43m'\u001b[39;49m\u001b[38;5;124;43mcity\u001b[39;49m\u001b[38;5;124;43m'\u001b[39;49m\u001b[43m,\u001b[49m\u001b[43m \u001b[49m\u001b[38;5;124;43m'\u001b[39;49m\u001b[38;5;124;43mregistered_via\u001b[39;49m\u001b[38;5;124;43m'\u001b[39;49m\u001b[43m]\u001b[49m\u001b[43m,\u001b[49m\u001b[43m \u001b[49m\u001b[43maxis\u001b[49m\u001b[38;5;241;43m=\u001b[39;49m\u001b[38;5;241;43m1\u001b[39;49m\u001b[43m)\u001b[49m\n",
      "File \u001b[0;32m~/.pyenv/versions/3.10.6/envs/Churn_prediction/lib/python3.10/site-packages/pandas/core/frame.py:5347\u001b[0m, in \u001b[0;36mDataFrame.drop\u001b[0;34m(self, labels, axis, index, columns, level, inplace, errors)\u001b[0m\n\u001b[1;32m   5199\u001b[0m \u001b[38;5;28;01mdef\u001b[39;00m \u001b[38;5;21mdrop\u001b[39m(\n\u001b[1;32m   5200\u001b[0m     \u001b[38;5;28mself\u001b[39m,\n\u001b[1;32m   5201\u001b[0m     labels: IndexLabel \u001b[38;5;241m|\u001b[39m \u001b[38;5;28;01mNone\u001b[39;00m \u001b[38;5;241m=\u001b[39m \u001b[38;5;28;01mNone\u001b[39;00m,\n\u001b[0;32m   (...)\u001b[0m\n\u001b[1;32m   5208\u001b[0m     errors: IgnoreRaise \u001b[38;5;241m=\u001b[39m \u001b[38;5;124m\"\u001b[39m\u001b[38;5;124mraise\u001b[39m\u001b[38;5;124m\"\u001b[39m,\n\u001b[1;32m   5209\u001b[0m ) \u001b[38;5;241m-\u001b[39m\u001b[38;5;241m>\u001b[39m DataFrame \u001b[38;5;241m|\u001b[39m \u001b[38;5;28;01mNone\u001b[39;00m:\n\u001b[1;32m   5210\u001b[0m \u001b[38;5;250m    \u001b[39m\u001b[38;5;124;03m\"\"\"\u001b[39;00m\n\u001b[1;32m   5211\u001b[0m \u001b[38;5;124;03m    Drop specified labels from rows or columns.\u001b[39;00m\n\u001b[1;32m   5212\u001b[0m \n\u001b[0;32m   (...)\u001b[0m\n\u001b[1;32m   5345\u001b[0m \u001b[38;5;124;03m            weight  1.0     0.8\u001b[39;00m\n\u001b[1;32m   5346\u001b[0m \u001b[38;5;124;03m    \"\"\"\u001b[39;00m\n\u001b[0;32m-> 5347\u001b[0m     \u001b[38;5;28;01mreturn\u001b[39;00m \u001b[38;5;28;43msuper\u001b[39;49m\u001b[43m(\u001b[49m\u001b[43m)\u001b[49m\u001b[38;5;241;43m.\u001b[39;49m\u001b[43mdrop\u001b[49m\u001b[43m(\u001b[49m\n\u001b[1;32m   5348\u001b[0m \u001b[43m        \u001b[49m\u001b[43mlabels\u001b[49m\u001b[38;5;241;43m=\u001b[39;49m\u001b[43mlabels\u001b[49m\u001b[43m,\u001b[49m\n\u001b[1;32m   5349\u001b[0m \u001b[43m        \u001b[49m\u001b[43maxis\u001b[49m\u001b[38;5;241;43m=\u001b[39;49m\u001b[43maxis\u001b[49m\u001b[43m,\u001b[49m\n\u001b[1;32m   5350\u001b[0m \u001b[43m        \u001b[49m\u001b[43mindex\u001b[49m\u001b[38;5;241;43m=\u001b[39;49m\u001b[43mindex\u001b[49m\u001b[43m,\u001b[49m\n\u001b[1;32m   5351\u001b[0m \u001b[43m        \u001b[49m\u001b[43mcolumns\u001b[49m\u001b[38;5;241;43m=\u001b[39;49m\u001b[43mcolumns\u001b[49m\u001b[43m,\u001b[49m\n\u001b[1;32m   5352\u001b[0m \u001b[43m        \u001b[49m\u001b[43mlevel\u001b[49m\u001b[38;5;241;43m=\u001b[39;49m\u001b[43mlevel\u001b[49m\u001b[43m,\u001b[49m\n\u001b[1;32m   5353\u001b[0m \u001b[43m        \u001b[49m\u001b[43minplace\u001b[49m\u001b[38;5;241;43m=\u001b[39;49m\u001b[43minplace\u001b[49m\u001b[43m,\u001b[49m\n\u001b[1;32m   5354\u001b[0m \u001b[43m        \u001b[49m\u001b[43merrors\u001b[49m\u001b[38;5;241;43m=\u001b[39;49m\u001b[43merrors\u001b[49m\u001b[43m,\u001b[49m\n\u001b[1;32m   5355\u001b[0m \u001b[43m    \u001b[49m\u001b[43m)\u001b[49m\n",
      "File \u001b[0;32m~/.pyenv/versions/3.10.6/envs/Churn_prediction/lib/python3.10/site-packages/pandas/core/generic.py:4711\u001b[0m, in \u001b[0;36mNDFrame.drop\u001b[0;34m(self, labels, axis, index, columns, level, inplace, errors)\u001b[0m\n\u001b[1;32m   4709\u001b[0m \u001b[38;5;28;01mfor\u001b[39;00m axis, labels \u001b[38;5;129;01min\u001b[39;00m axes\u001b[38;5;241m.\u001b[39mitems():\n\u001b[1;32m   4710\u001b[0m     \u001b[38;5;28;01mif\u001b[39;00m labels \u001b[38;5;129;01mis\u001b[39;00m \u001b[38;5;129;01mnot\u001b[39;00m \u001b[38;5;28;01mNone\u001b[39;00m:\n\u001b[0;32m-> 4711\u001b[0m         obj \u001b[38;5;241m=\u001b[39m \u001b[43mobj\u001b[49m\u001b[38;5;241;43m.\u001b[39;49m\u001b[43m_drop_axis\u001b[49m\u001b[43m(\u001b[49m\u001b[43mlabels\u001b[49m\u001b[43m,\u001b[49m\u001b[43m \u001b[49m\u001b[43maxis\u001b[49m\u001b[43m,\u001b[49m\u001b[43m \u001b[49m\u001b[43mlevel\u001b[49m\u001b[38;5;241;43m=\u001b[39;49m\u001b[43mlevel\u001b[49m\u001b[43m,\u001b[49m\u001b[43m \u001b[49m\u001b[43merrors\u001b[49m\u001b[38;5;241;43m=\u001b[39;49m\u001b[43merrors\u001b[49m\u001b[43m)\u001b[49m\n\u001b[1;32m   4713\u001b[0m \u001b[38;5;28;01mif\u001b[39;00m inplace:\n\u001b[1;32m   4714\u001b[0m     \u001b[38;5;28mself\u001b[39m\u001b[38;5;241m.\u001b[39m_update_inplace(obj)\n",
      "File \u001b[0;32m~/.pyenv/versions/3.10.6/envs/Churn_prediction/lib/python3.10/site-packages/pandas/core/generic.py:4753\u001b[0m, in \u001b[0;36mNDFrame._drop_axis\u001b[0;34m(self, labels, axis, level, errors, only_slice)\u001b[0m\n\u001b[1;32m   4751\u001b[0m         new_axis \u001b[38;5;241m=\u001b[39m axis\u001b[38;5;241m.\u001b[39mdrop(labels, level\u001b[38;5;241m=\u001b[39mlevel, errors\u001b[38;5;241m=\u001b[39merrors)\n\u001b[1;32m   4752\u001b[0m     \u001b[38;5;28;01melse\u001b[39;00m:\n\u001b[0;32m-> 4753\u001b[0m         new_axis \u001b[38;5;241m=\u001b[39m \u001b[43maxis\u001b[49m\u001b[38;5;241;43m.\u001b[39;49m\u001b[43mdrop\u001b[49m\u001b[43m(\u001b[49m\u001b[43mlabels\u001b[49m\u001b[43m,\u001b[49m\u001b[43m \u001b[49m\u001b[43merrors\u001b[49m\u001b[38;5;241;43m=\u001b[39;49m\u001b[43merrors\u001b[49m\u001b[43m)\u001b[49m\n\u001b[1;32m   4754\u001b[0m     indexer \u001b[38;5;241m=\u001b[39m axis\u001b[38;5;241m.\u001b[39mget_indexer(new_axis)\n\u001b[1;32m   4756\u001b[0m \u001b[38;5;66;03m# Case for non-unique axis\u001b[39;00m\n\u001b[1;32m   4757\u001b[0m \u001b[38;5;28;01melse\u001b[39;00m:\n",
      "File \u001b[0;32m~/.pyenv/versions/3.10.6/envs/Churn_prediction/lib/python3.10/site-packages/pandas/core/indexes/base.py:6992\u001b[0m, in \u001b[0;36mIndex.drop\u001b[0;34m(self, labels, errors)\u001b[0m\n\u001b[1;32m   6990\u001b[0m \u001b[38;5;28;01mif\u001b[39;00m mask\u001b[38;5;241m.\u001b[39many():\n\u001b[1;32m   6991\u001b[0m     \u001b[38;5;28;01mif\u001b[39;00m errors \u001b[38;5;241m!=\u001b[39m \u001b[38;5;124m\"\u001b[39m\u001b[38;5;124mignore\u001b[39m\u001b[38;5;124m\"\u001b[39m:\n\u001b[0;32m-> 6992\u001b[0m         \u001b[38;5;28;01mraise\u001b[39;00m \u001b[38;5;167;01mKeyError\u001b[39;00m(\u001b[38;5;124mf\u001b[39m\u001b[38;5;124m\"\u001b[39m\u001b[38;5;132;01m{\u001b[39;00mlabels[mask]\u001b[38;5;241m.\u001b[39mtolist()\u001b[38;5;132;01m}\u001b[39;00m\u001b[38;5;124m not found in axis\u001b[39m\u001b[38;5;124m\"\u001b[39m)\n\u001b[1;32m   6993\u001b[0m     indexer \u001b[38;5;241m=\u001b[39m indexer[\u001b[38;5;241m~\u001b[39mmask]\n\u001b[1;32m   6994\u001b[0m \u001b[38;5;28;01mreturn\u001b[39;00m \u001b[38;5;28mself\u001b[39m\u001b[38;5;241m.\u001b[39mdelete(indexer)\n",
      "\u001b[0;31mKeyError\u001b[0m: \"['msno', 'bd', 'payment_method_id', 'city', 'registered_via'] not found in axis\""
     ]
    }
   ],
   "source": [
    "#dropping invaluable columns based on feature importance (see model notebooks)\n",
    "test_df = test_df.drop(['msno', 'bd', 'payment_method_id', 'city', 'registered_via'], axis=1)"
   ]
  },
  {
   "cell_type": "code",
   "execution_count": 70,
   "id": "d0534b9a-4896-4e5d-9692-1743b78a630d",
   "metadata": {},
   "outputs": [],
   "source": [
    "#list features for their scalers\n",
    "robust_features = [               'remaining_plan_duration', \n",
    "          'usage_from_ltd',\n",
    "              'payment_plan_days',\n",
    "              'plan_list_price',\n",
    "              'actual_amount_paid',\n",
    "             'num_50',\n",
    "              'num_75',\n",
    "              'num_985',\n",
    "              \n",
    "              'expire_year',\n",
    "              'last_transaction_year'\n",
    "             ]\n",
    "minmax_features = ['registration_year']\n",
    "normal_features = [ 'num_25',\n",
    "              \n",
    "              'num_100',\n",
    "              'num_unq',\n",
    "              'total_secs',]"
   ]
  },
  {
   "cell_type": "code",
   "execution_count": 71,
   "id": "e77573c2-af9b-44ea-886d-7659045c7263",
   "metadata": {},
   "outputs": [],
   "source": [
    "# Build the pipeline with the different steps, this pipeline does not include the model\n",
    "robust_pipeline = make_pipeline(RobustScaler())\n",
    "minmax_pipeline = make_pipeline(MinMaxScaler())\n",
    "log_pipeline = make_pipeline( \n",
    "    FunctionTransformer(np.log1p, validate=True),\n",
    "    StandardScaler())\n",
    "\n",
    "preprocessor_new = ColumnTransformer(\n",
    "    transformers=[\n",
    "        ('Robust', robust_pipeline, robust_features),\n",
    "        ('MinMax', minmax_pipeline, minmax_features),\n",
    "        ('Log', log_pipeline, normal_features)\n",
    "    ], remainder='passthrough'\n",
    ")\n",
    "    "
   ]
  },
  {
   "cell_type": "code",
   "execution_count": 72,
   "id": "d614e68c-f569-4527-826b-aa5248879946",
   "metadata": {},
   "outputs": [
    {
     "data": {
      "text/html": [
       "<style>#sk-container-id-1 {color: black;}#sk-container-id-1 pre{padding: 0;}#sk-container-id-1 div.sk-toggleable {background-color: white;}#sk-container-id-1 label.sk-toggleable__label {cursor: pointer;display: block;width: 100%;margin-bottom: 0;padding: 0.3em;box-sizing: border-box;text-align: center;}#sk-container-id-1 label.sk-toggleable__label-arrow:before {content: \"▸\";float: left;margin-right: 0.25em;color: #696969;}#sk-container-id-1 label.sk-toggleable__label-arrow:hover:before {color: black;}#sk-container-id-1 div.sk-estimator:hover label.sk-toggleable__label-arrow:before {color: black;}#sk-container-id-1 div.sk-toggleable__content {max-height: 0;max-width: 0;overflow: hidden;text-align: left;background-color: #f0f8ff;}#sk-container-id-1 div.sk-toggleable__content pre {margin: 0.2em;color: black;border-radius: 0.25em;background-color: #f0f8ff;}#sk-container-id-1 input.sk-toggleable__control:checked~div.sk-toggleable__content {max-height: 200px;max-width: 100%;overflow: auto;}#sk-container-id-1 input.sk-toggleable__control:checked~label.sk-toggleable__label-arrow:before {content: \"▾\";}#sk-container-id-1 div.sk-estimator input.sk-toggleable__control:checked~label.sk-toggleable__label {background-color: #d4ebff;}#sk-container-id-1 div.sk-label input.sk-toggleable__control:checked~label.sk-toggleable__label {background-color: #d4ebff;}#sk-container-id-1 input.sk-hidden--visually {border: 0;clip: rect(1px 1px 1px 1px);clip: rect(1px, 1px, 1px, 1px);height: 1px;margin: -1px;overflow: hidden;padding: 0;position: absolute;width: 1px;}#sk-container-id-1 div.sk-estimator {font-family: monospace;background-color: #f0f8ff;border: 1px dotted black;border-radius: 0.25em;box-sizing: border-box;margin-bottom: 0.5em;}#sk-container-id-1 div.sk-estimator:hover {background-color: #d4ebff;}#sk-container-id-1 div.sk-parallel-item::after {content: \"\";width: 100%;border-bottom: 1px solid gray;flex-grow: 1;}#sk-container-id-1 div.sk-label:hover label.sk-toggleable__label {background-color: #d4ebff;}#sk-container-id-1 div.sk-serial::before {content: \"\";position: absolute;border-left: 1px solid gray;box-sizing: border-box;top: 0;bottom: 0;left: 50%;z-index: 0;}#sk-container-id-1 div.sk-serial {display: flex;flex-direction: column;align-items: center;background-color: white;padding-right: 0.2em;padding-left: 0.2em;position: relative;}#sk-container-id-1 div.sk-item {position: relative;z-index: 1;}#sk-container-id-1 div.sk-parallel {display: flex;align-items: stretch;justify-content: center;background-color: white;position: relative;}#sk-container-id-1 div.sk-item::before, #sk-container-id-1 div.sk-parallel-item::before {content: \"\";position: absolute;border-left: 1px solid gray;box-sizing: border-box;top: 0;bottom: 0;left: 50%;z-index: -1;}#sk-container-id-1 div.sk-parallel-item {display: flex;flex-direction: column;z-index: 1;position: relative;background-color: white;}#sk-container-id-1 div.sk-parallel-item:first-child::after {align-self: flex-end;width: 50%;}#sk-container-id-1 div.sk-parallel-item:last-child::after {align-self: flex-start;width: 50%;}#sk-container-id-1 div.sk-parallel-item:only-child::after {width: 0;}#sk-container-id-1 div.sk-dashed-wrapped {border: 1px dashed gray;margin: 0 0.4em 0.5em 0.4em;box-sizing: border-box;padding-bottom: 0.4em;background-color: white;}#sk-container-id-1 div.sk-label label {font-family: monospace;font-weight: bold;display: inline-block;line-height: 1.2em;}#sk-container-id-1 div.sk-label-container {text-align: center;}#sk-container-id-1 div.sk-container {/* jupyter's `normalize.less` sets `[hidden] { display: none; }` but bootstrap.min.css set `[hidden] { display: none !important; }` so we also need the `!important` here to be able to override the default hidden behavior on the sphinx rendered scikit-learn.org. See: https://github.com/scikit-learn/scikit-learn/issues/21755 */display: inline-block !important;position: relative;}#sk-container-id-1 div.sk-text-repr-fallback {display: none;}</style><div id=\"sk-container-id-1\" class=\"sk-top-container\"><div class=\"sk-text-repr-fallback\"><pre>ColumnTransformer(remainder=&#x27;passthrough&#x27;,\n",
       "                  transformers=[(&#x27;Robust&#x27;,\n",
       "                                 Pipeline(steps=[(&#x27;robustscaler&#x27;,\n",
       "                                                  RobustScaler())]),\n",
       "                                 [&#x27;remaining_plan_duration&#x27;, &#x27;usage_from_ltd&#x27;,\n",
       "                                  &#x27;payment_plan_days&#x27;, &#x27;plan_list_price&#x27;,\n",
       "                                  &#x27;actual_amount_paid&#x27;, &#x27;num_50&#x27;, &#x27;num_75&#x27;,\n",
       "                                  &#x27;num_985&#x27;, &#x27;expire_year&#x27;,\n",
       "                                  &#x27;last_transaction_year&#x27;]),\n",
       "                                (&#x27;MinMax&#x27;,\n",
       "                                 Pipeline(steps=[(&#x27;minmaxscaler&#x27;,\n",
       "                                                  MinMaxScaler())]),\n",
       "                                 [&#x27;registration_year&#x27;]),\n",
       "                                (&#x27;Log&#x27;,\n",
       "                                 Pipeline(steps=[(&#x27;functiontransformer&#x27;,\n",
       "                                                  FunctionTransformer(func=&lt;ufunc &#x27;log1p&#x27;&gt;,\n",
       "                                                                      validate=True)),\n",
       "                                                 (&#x27;standardscaler&#x27;,\n",
       "                                                  StandardScaler())]),\n",
       "                                 [&#x27;num_25&#x27;, &#x27;num_100&#x27;, &#x27;num_unq&#x27;,\n",
       "                                  &#x27;total_secs&#x27;])])</pre><b>In a Jupyter environment, please rerun this cell to show the HTML representation or trust the notebook. <br />On GitHub, the HTML representation is unable to render, please try loading this page with nbviewer.org.</b></div><div class=\"sk-container\" hidden><div class=\"sk-item sk-dashed-wrapped\"><div class=\"sk-label-container\"><div class=\"sk-label sk-toggleable\"><input class=\"sk-toggleable__control sk-hidden--visually\" id=\"sk-estimator-id-1\" type=\"checkbox\" ><label for=\"sk-estimator-id-1\" class=\"sk-toggleable__label sk-toggleable__label-arrow\">ColumnTransformer</label><div class=\"sk-toggleable__content\"><pre>ColumnTransformer(remainder=&#x27;passthrough&#x27;,\n",
       "                  transformers=[(&#x27;Robust&#x27;,\n",
       "                                 Pipeline(steps=[(&#x27;robustscaler&#x27;,\n",
       "                                                  RobustScaler())]),\n",
       "                                 [&#x27;remaining_plan_duration&#x27;, &#x27;usage_from_ltd&#x27;,\n",
       "                                  &#x27;payment_plan_days&#x27;, &#x27;plan_list_price&#x27;,\n",
       "                                  &#x27;actual_amount_paid&#x27;, &#x27;num_50&#x27;, &#x27;num_75&#x27;,\n",
       "                                  &#x27;num_985&#x27;, &#x27;expire_year&#x27;,\n",
       "                                  &#x27;last_transaction_year&#x27;]),\n",
       "                                (&#x27;MinMax&#x27;,\n",
       "                                 Pipeline(steps=[(&#x27;minmaxscaler&#x27;,\n",
       "                                                  MinMaxScaler())]),\n",
       "                                 [&#x27;registration_year&#x27;]),\n",
       "                                (&#x27;Log&#x27;,\n",
       "                                 Pipeline(steps=[(&#x27;functiontransformer&#x27;,\n",
       "                                                  FunctionTransformer(func=&lt;ufunc &#x27;log1p&#x27;&gt;,\n",
       "                                                                      validate=True)),\n",
       "                                                 (&#x27;standardscaler&#x27;,\n",
       "                                                  StandardScaler())]),\n",
       "                                 [&#x27;num_25&#x27;, &#x27;num_100&#x27;, &#x27;num_unq&#x27;,\n",
       "                                  &#x27;total_secs&#x27;])])</pre></div></div></div><div class=\"sk-parallel\"><div class=\"sk-parallel-item\"><div class=\"sk-item\"><div class=\"sk-label-container\"><div class=\"sk-label sk-toggleable\"><input class=\"sk-toggleable__control sk-hidden--visually\" id=\"sk-estimator-id-2\" type=\"checkbox\" ><label for=\"sk-estimator-id-2\" class=\"sk-toggleable__label sk-toggleable__label-arrow\">Robust</label><div class=\"sk-toggleable__content\"><pre>[&#x27;remaining_plan_duration&#x27;, &#x27;usage_from_ltd&#x27;, &#x27;payment_plan_days&#x27;, &#x27;plan_list_price&#x27;, &#x27;actual_amount_paid&#x27;, &#x27;num_50&#x27;, &#x27;num_75&#x27;, &#x27;num_985&#x27;, &#x27;expire_year&#x27;, &#x27;last_transaction_year&#x27;]</pre></div></div></div><div class=\"sk-serial\"><div class=\"sk-item\"><div class=\"sk-serial\"><div class=\"sk-item\"><div class=\"sk-estimator sk-toggleable\"><input class=\"sk-toggleable__control sk-hidden--visually\" id=\"sk-estimator-id-3\" type=\"checkbox\" ><label for=\"sk-estimator-id-3\" class=\"sk-toggleable__label sk-toggleable__label-arrow\">RobustScaler</label><div class=\"sk-toggleable__content\"><pre>RobustScaler()</pre></div></div></div></div></div></div></div></div><div class=\"sk-parallel-item\"><div class=\"sk-item\"><div class=\"sk-label-container\"><div class=\"sk-label sk-toggleable\"><input class=\"sk-toggleable__control sk-hidden--visually\" id=\"sk-estimator-id-4\" type=\"checkbox\" ><label for=\"sk-estimator-id-4\" class=\"sk-toggleable__label sk-toggleable__label-arrow\">MinMax</label><div class=\"sk-toggleable__content\"><pre>[&#x27;registration_year&#x27;]</pre></div></div></div><div class=\"sk-serial\"><div class=\"sk-item\"><div class=\"sk-serial\"><div class=\"sk-item\"><div class=\"sk-estimator sk-toggleable\"><input class=\"sk-toggleable__control sk-hidden--visually\" id=\"sk-estimator-id-5\" type=\"checkbox\" ><label for=\"sk-estimator-id-5\" class=\"sk-toggleable__label sk-toggleable__label-arrow\">MinMaxScaler</label><div class=\"sk-toggleable__content\"><pre>MinMaxScaler()</pre></div></div></div></div></div></div></div></div><div class=\"sk-parallel-item\"><div class=\"sk-item\"><div class=\"sk-label-container\"><div class=\"sk-label sk-toggleable\"><input class=\"sk-toggleable__control sk-hidden--visually\" id=\"sk-estimator-id-6\" type=\"checkbox\" ><label for=\"sk-estimator-id-6\" class=\"sk-toggleable__label sk-toggleable__label-arrow\">Log</label><div class=\"sk-toggleable__content\"><pre>[&#x27;num_25&#x27;, &#x27;num_100&#x27;, &#x27;num_unq&#x27;, &#x27;total_secs&#x27;]</pre></div></div></div><div class=\"sk-serial\"><div class=\"sk-item\"><div class=\"sk-serial\"><div class=\"sk-item\"><div class=\"sk-estimator sk-toggleable\"><input class=\"sk-toggleable__control sk-hidden--visually\" id=\"sk-estimator-id-7\" type=\"checkbox\" ><label for=\"sk-estimator-id-7\" class=\"sk-toggleable__label sk-toggleable__label-arrow\">FunctionTransformer</label><div class=\"sk-toggleable__content\"><pre>FunctionTransformer(func=&lt;ufunc &#x27;log1p&#x27;&gt;, validate=True)</pre></div></div></div><div class=\"sk-item\"><div class=\"sk-estimator sk-toggleable\"><input class=\"sk-toggleable__control sk-hidden--visually\" id=\"sk-estimator-id-8\" type=\"checkbox\" ><label for=\"sk-estimator-id-8\" class=\"sk-toggleable__label sk-toggleable__label-arrow\">StandardScaler</label><div class=\"sk-toggleable__content\"><pre>StandardScaler()</pre></div></div></div></div></div></div></div></div><div class=\"sk-parallel-item\"><div class=\"sk-item\"><div class=\"sk-label-container\"><div class=\"sk-label sk-toggleable\"><input class=\"sk-toggleable__control sk-hidden--visually\" id=\"sk-estimator-id-9\" type=\"checkbox\" ><label for=\"sk-estimator-id-9\" class=\"sk-toggleable__label sk-toggleable__label-arrow\">remainder</label><div class=\"sk-toggleable__content\"><pre></pre></div></div></div><div class=\"sk-serial\"><div class=\"sk-item\"><div class=\"sk-estimator sk-toggleable\"><input class=\"sk-toggleable__control sk-hidden--visually\" id=\"sk-estimator-id-10\" type=\"checkbox\" ><label for=\"sk-estimator-id-10\" class=\"sk-toggleable__label sk-toggleable__label-arrow\">passthrough</label><div class=\"sk-toggleable__content\"><pre>passthrough</pre></div></div></div></div></div></div></div></div></div></div>"
      ],
      "text/plain": [
       "ColumnTransformer(remainder='passthrough',\n",
       "                  transformers=[('Robust',\n",
       "                                 Pipeline(steps=[('robustscaler',\n",
       "                                                  RobustScaler())]),\n",
       "                                 ['remaining_plan_duration', 'usage_from_ltd',\n",
       "                                  'payment_plan_days', 'plan_list_price',\n",
       "                                  'actual_amount_paid', 'num_50', 'num_75',\n",
       "                                  'num_985', 'expire_year',\n",
       "                                  'last_transaction_year']),\n",
       "                                ('MinMax',\n",
       "                                 Pipeline(steps=[('minmaxscaler',\n",
       "                                                  MinMaxScaler())]),\n",
       "                                 ['registration_year']),\n",
       "                                ('Log',\n",
       "                                 Pipeline(steps=[('functiontransformer',\n",
       "                                                  FunctionTransformer(func=<ufunc 'log1p'>,\n",
       "                                                                      validate=True)),\n",
       "                                                 ('standardscaler',\n",
       "                                                  StandardScaler())]),\n",
       "                                 ['num_25', 'num_100', 'num_unq',\n",
       "                                  'total_secs'])])"
      ]
     },
     "execution_count": 72,
     "metadata": {},
     "output_type": "execute_result"
    }
   ],
   "source": [
    "preprocessor_new"
   ]
  },
  {
   "cell_type": "code",
   "execution_count": 79,
   "id": "295e781f-8d21-46f3-80cf-0438908b1215",
   "metadata": {},
   "outputs": [
    {
     "ename": "KeyError",
     "evalue": "\"['is_churn'] not found in axis\"",
     "output_type": "error",
     "traceback": [
      "\u001b[0;31m---------------------------------------------------------------------------\u001b[0m",
      "\u001b[0;31mKeyError\u001b[0m                                  Traceback (most recent call last)",
      "Cell \u001b[0;32mIn[79], line 2\u001b[0m\n\u001b[1;32m      1\u001b[0m \u001b[38;5;66;03m#drop churn column from df\u001b[39;00m\n\u001b[0;32m----> 2\u001b[0m test_df \u001b[38;5;241m=\u001b[39m \u001b[43mtest_df\u001b[49m\u001b[38;5;241;43m.\u001b[39;49m\u001b[43mdrop\u001b[49m\u001b[43m(\u001b[49m\u001b[43m[\u001b[49m\u001b[38;5;124;43m'\u001b[39;49m\u001b[38;5;124;43mis_churn\u001b[39;49m\u001b[38;5;124;43m'\u001b[39;49m\u001b[43m]\u001b[49m\u001b[43m,\u001b[49m\u001b[43m \u001b[49m\u001b[43maxis\u001b[49m\u001b[38;5;241;43m=\u001b[39;49m\u001b[38;5;241;43m1\u001b[39;49m\u001b[43m)\u001b[49m\n\u001b[1;32m      3\u001b[0m test_df\n",
      "File \u001b[0;32m~/.pyenv/versions/3.10.6/envs/Churn_prediction/lib/python3.10/site-packages/pandas/core/frame.py:5347\u001b[0m, in \u001b[0;36mDataFrame.drop\u001b[0;34m(self, labels, axis, index, columns, level, inplace, errors)\u001b[0m\n\u001b[1;32m   5199\u001b[0m \u001b[38;5;28;01mdef\u001b[39;00m \u001b[38;5;21mdrop\u001b[39m(\n\u001b[1;32m   5200\u001b[0m     \u001b[38;5;28mself\u001b[39m,\n\u001b[1;32m   5201\u001b[0m     labels: IndexLabel \u001b[38;5;241m|\u001b[39m \u001b[38;5;28;01mNone\u001b[39;00m \u001b[38;5;241m=\u001b[39m \u001b[38;5;28;01mNone\u001b[39;00m,\n\u001b[0;32m   (...)\u001b[0m\n\u001b[1;32m   5208\u001b[0m     errors: IgnoreRaise \u001b[38;5;241m=\u001b[39m \u001b[38;5;124m\"\u001b[39m\u001b[38;5;124mraise\u001b[39m\u001b[38;5;124m\"\u001b[39m,\n\u001b[1;32m   5209\u001b[0m ) \u001b[38;5;241m-\u001b[39m\u001b[38;5;241m>\u001b[39m DataFrame \u001b[38;5;241m|\u001b[39m \u001b[38;5;28;01mNone\u001b[39;00m:\n\u001b[1;32m   5210\u001b[0m \u001b[38;5;250m    \u001b[39m\u001b[38;5;124;03m\"\"\"\u001b[39;00m\n\u001b[1;32m   5211\u001b[0m \u001b[38;5;124;03m    Drop specified labels from rows or columns.\u001b[39;00m\n\u001b[1;32m   5212\u001b[0m \n\u001b[0;32m   (...)\u001b[0m\n\u001b[1;32m   5345\u001b[0m \u001b[38;5;124;03m            weight  1.0     0.8\u001b[39;00m\n\u001b[1;32m   5346\u001b[0m \u001b[38;5;124;03m    \"\"\"\u001b[39;00m\n\u001b[0;32m-> 5347\u001b[0m     \u001b[38;5;28;01mreturn\u001b[39;00m \u001b[38;5;28;43msuper\u001b[39;49m\u001b[43m(\u001b[49m\u001b[43m)\u001b[49m\u001b[38;5;241;43m.\u001b[39;49m\u001b[43mdrop\u001b[49m\u001b[43m(\u001b[49m\n\u001b[1;32m   5348\u001b[0m \u001b[43m        \u001b[49m\u001b[43mlabels\u001b[49m\u001b[38;5;241;43m=\u001b[39;49m\u001b[43mlabels\u001b[49m\u001b[43m,\u001b[49m\n\u001b[1;32m   5349\u001b[0m \u001b[43m        \u001b[49m\u001b[43maxis\u001b[49m\u001b[38;5;241;43m=\u001b[39;49m\u001b[43maxis\u001b[49m\u001b[43m,\u001b[49m\n\u001b[1;32m   5350\u001b[0m \u001b[43m        \u001b[49m\u001b[43mindex\u001b[49m\u001b[38;5;241;43m=\u001b[39;49m\u001b[43mindex\u001b[49m\u001b[43m,\u001b[49m\n\u001b[1;32m   5351\u001b[0m \u001b[43m        \u001b[49m\u001b[43mcolumns\u001b[49m\u001b[38;5;241;43m=\u001b[39;49m\u001b[43mcolumns\u001b[49m\u001b[43m,\u001b[49m\n\u001b[1;32m   5352\u001b[0m \u001b[43m        \u001b[49m\u001b[43mlevel\u001b[49m\u001b[38;5;241;43m=\u001b[39;49m\u001b[43mlevel\u001b[49m\u001b[43m,\u001b[49m\n\u001b[1;32m   5353\u001b[0m \u001b[43m        \u001b[49m\u001b[43minplace\u001b[49m\u001b[38;5;241;43m=\u001b[39;49m\u001b[43minplace\u001b[49m\u001b[43m,\u001b[49m\n\u001b[1;32m   5354\u001b[0m \u001b[43m        \u001b[49m\u001b[43merrors\u001b[49m\u001b[38;5;241;43m=\u001b[39;49m\u001b[43merrors\u001b[49m\u001b[43m,\u001b[49m\n\u001b[1;32m   5355\u001b[0m \u001b[43m    \u001b[49m\u001b[43m)\u001b[49m\n",
      "File \u001b[0;32m~/.pyenv/versions/3.10.6/envs/Churn_prediction/lib/python3.10/site-packages/pandas/core/generic.py:4711\u001b[0m, in \u001b[0;36mNDFrame.drop\u001b[0;34m(self, labels, axis, index, columns, level, inplace, errors)\u001b[0m\n\u001b[1;32m   4709\u001b[0m \u001b[38;5;28;01mfor\u001b[39;00m axis, labels \u001b[38;5;129;01min\u001b[39;00m axes\u001b[38;5;241m.\u001b[39mitems():\n\u001b[1;32m   4710\u001b[0m     \u001b[38;5;28;01mif\u001b[39;00m labels \u001b[38;5;129;01mis\u001b[39;00m \u001b[38;5;129;01mnot\u001b[39;00m \u001b[38;5;28;01mNone\u001b[39;00m:\n\u001b[0;32m-> 4711\u001b[0m         obj \u001b[38;5;241m=\u001b[39m \u001b[43mobj\u001b[49m\u001b[38;5;241;43m.\u001b[39;49m\u001b[43m_drop_axis\u001b[49m\u001b[43m(\u001b[49m\u001b[43mlabels\u001b[49m\u001b[43m,\u001b[49m\u001b[43m \u001b[49m\u001b[43maxis\u001b[49m\u001b[43m,\u001b[49m\u001b[43m \u001b[49m\u001b[43mlevel\u001b[49m\u001b[38;5;241;43m=\u001b[39;49m\u001b[43mlevel\u001b[49m\u001b[43m,\u001b[49m\u001b[43m \u001b[49m\u001b[43merrors\u001b[49m\u001b[38;5;241;43m=\u001b[39;49m\u001b[43merrors\u001b[49m\u001b[43m)\u001b[49m\n\u001b[1;32m   4713\u001b[0m \u001b[38;5;28;01mif\u001b[39;00m inplace:\n\u001b[1;32m   4714\u001b[0m     \u001b[38;5;28mself\u001b[39m\u001b[38;5;241m.\u001b[39m_update_inplace(obj)\n",
      "File \u001b[0;32m~/.pyenv/versions/3.10.6/envs/Churn_prediction/lib/python3.10/site-packages/pandas/core/generic.py:4753\u001b[0m, in \u001b[0;36mNDFrame._drop_axis\u001b[0;34m(self, labels, axis, level, errors, only_slice)\u001b[0m\n\u001b[1;32m   4751\u001b[0m         new_axis \u001b[38;5;241m=\u001b[39m axis\u001b[38;5;241m.\u001b[39mdrop(labels, level\u001b[38;5;241m=\u001b[39mlevel, errors\u001b[38;5;241m=\u001b[39merrors)\n\u001b[1;32m   4752\u001b[0m     \u001b[38;5;28;01melse\u001b[39;00m:\n\u001b[0;32m-> 4753\u001b[0m         new_axis \u001b[38;5;241m=\u001b[39m \u001b[43maxis\u001b[49m\u001b[38;5;241;43m.\u001b[39;49m\u001b[43mdrop\u001b[49m\u001b[43m(\u001b[49m\u001b[43mlabels\u001b[49m\u001b[43m,\u001b[49m\u001b[43m \u001b[49m\u001b[43merrors\u001b[49m\u001b[38;5;241;43m=\u001b[39;49m\u001b[43merrors\u001b[49m\u001b[43m)\u001b[49m\n\u001b[1;32m   4754\u001b[0m     indexer \u001b[38;5;241m=\u001b[39m axis\u001b[38;5;241m.\u001b[39mget_indexer(new_axis)\n\u001b[1;32m   4756\u001b[0m \u001b[38;5;66;03m# Case for non-unique axis\u001b[39;00m\n\u001b[1;32m   4757\u001b[0m \u001b[38;5;28;01melse\u001b[39;00m:\n",
      "File \u001b[0;32m~/.pyenv/versions/3.10.6/envs/Churn_prediction/lib/python3.10/site-packages/pandas/core/indexes/base.py:6992\u001b[0m, in \u001b[0;36mIndex.drop\u001b[0;34m(self, labels, errors)\u001b[0m\n\u001b[1;32m   6990\u001b[0m \u001b[38;5;28;01mif\u001b[39;00m mask\u001b[38;5;241m.\u001b[39many():\n\u001b[1;32m   6991\u001b[0m     \u001b[38;5;28;01mif\u001b[39;00m errors \u001b[38;5;241m!=\u001b[39m \u001b[38;5;124m\"\u001b[39m\u001b[38;5;124mignore\u001b[39m\u001b[38;5;124m\"\u001b[39m:\n\u001b[0;32m-> 6992\u001b[0m         \u001b[38;5;28;01mraise\u001b[39;00m \u001b[38;5;167;01mKeyError\u001b[39;00m(\u001b[38;5;124mf\u001b[39m\u001b[38;5;124m\"\u001b[39m\u001b[38;5;132;01m{\u001b[39;00mlabels[mask]\u001b[38;5;241m.\u001b[39mtolist()\u001b[38;5;132;01m}\u001b[39;00m\u001b[38;5;124m not found in axis\u001b[39m\u001b[38;5;124m\"\u001b[39m)\n\u001b[1;32m   6993\u001b[0m     indexer \u001b[38;5;241m=\u001b[39m indexer[\u001b[38;5;241m~\u001b[39mmask]\n\u001b[1;32m   6994\u001b[0m \u001b[38;5;28;01mreturn\u001b[39;00m \u001b[38;5;28mself\u001b[39m\u001b[38;5;241m.\u001b[39mdelete(indexer)\n",
      "\u001b[0;31mKeyError\u001b[0m: \"['is_churn'] not found in axis\""
     ]
    }
   ],
   "source": [
    "#drop churn column from df\n",
    "test_df = test_df.drop(['is_churn'], axis=1)\n"
   ]
  },
  {
   "cell_type": "code",
   "execution_count": 78,
   "id": "48ee295f-b806-4952-a08d-a9fe0889ad66",
   "metadata": {},
   "outputs": [],
   "source": [
    "# Use fit on test_df and then transform\n",
    "preprocessor_new.fit(test_df)\n",
    "test_df_transformed = preprocessor_new.transform(test_df)"
   ]
  },
  {
   "cell_type": "code",
   "execution_count": 82,
   "id": "4f8cc413-eed3-40d5-9008-bca9d3b20c01",
   "metadata": {},
   "outputs": [],
   "source": [
    "# Convert transformed data back to DataFrame to ensure column order is maintained\n",
    "test_df_transformed = pd.DataFrame(\n",
    "    test_df_transformed, \n",
    "    columns=test_df.columns\n",
    ")"
   ]
  },
  {
   "cell_type": "markdown",
   "id": "c1e36fff-0171-491f-a401-38db6d7bae13",
   "metadata": {},
   "source": [
    "## split transformed test_df into three and export CSVs"
   ]
  },
  {
   "cell_type": "code",
   "execution_count": 84,
   "id": "59bb8a97-8504-4a80-8060-64a00d880066",
   "metadata": {},
   "outputs": [],
   "source": [
    "# Calculate split sizes\n",
    "rows = len(test_df_transformed)\n",
    "size = rows // 3  # Integer division\n",
    "\n",
    "# Split the DataFrame\n",
    "test_transformed_df1 = test_df_transformed.iloc[:size]\n",
    "test_transformed_df2 = test_df_transformed.iloc[size:2*size]\n",
    "test_transformed_df3 = test_df_transformed.iloc[2*size:]\n"
   ]
  },
  {
   "cell_type": "code",
   "execution_count": 85,
   "id": "c41a02a0-21ae-4294-80cc-7c1814aeac9a",
   "metadata": {},
   "outputs": [],
   "source": [
    "# Export to CSV\n",
    "test_transformed_df1.to_csv('test_transformed_df1.csv', index=False)\n",
    "test_transformed_df2.to_csv('test_transformed_df2.csv', index=False)\n",
    "test_transformed_df3.to_csv('test_transformed_df3.csv', index=False)"
   ]
  },
  {
   "cell_type": "code",
   "execution_count": null,
   "id": "dc5f7509-f928-4445-bd19-f3f1261fc715",
   "metadata": {},
   "outputs": [],
   "source": []
  }
 ],
 "metadata": {
  "kernelspec": {
   "display_name": "Python 3 (ipykernel)",
   "language": "python",
   "name": "python3"
  },
  "language_info": {
   "codemirror_mode": {
    "name": "ipython",
    "version": 3
   },
   "file_extension": ".py",
   "mimetype": "text/x-python",
   "name": "python",
   "nbconvert_exporter": "python",
   "pygments_lexer": "ipython3",
   "version": "3.10.6"
  }
 },
 "nbformat": 4,
 "nbformat_minor": 5
}
