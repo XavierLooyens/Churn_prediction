{
 "cells": [
  {
   "cell_type": "code",
   "execution_count": 1,
   "id": "aabd5ab9-9ca0-4047-906d-c881f8769a03",
   "metadata": {},
   "outputs": [],
   "source": [
    "import pandas as pd\n",
    "import matplotlib.pyplot as plt\n",
    "import seaborn as sns"
   ]
  },
  {
   "cell_type": "code",
   "execution_count": 2,
   "id": "a98df527-384b-4717-a548-29f600920f41",
   "metadata": {},
   "outputs": [],
   "source": [
    "transaction = pd.read_csv(\"raw_data/transactions_v2.csv\")"
   ]
  },
  {
   "cell_type": "code",
   "execution_count": 3,
   "id": "c11f7379-0a0e-4e81-899b-e109c4d45470",
   "metadata": {},
   "outputs": [],
   "source": [
    "# transactions"
   ]
  },
  {
   "cell_type": "code",
   "execution_count": 4,
   "id": "03237c8d-fe47-4ba8-a6ef-37e36f3135b3",
   "metadata": {},
   "outputs": [
    {
     "data": {
      "text/plain": [
       "(970960, 2)"
      ]
     },
     "execution_count": 4,
     "metadata": {},
     "output_type": "execute_result"
    }
   ],
   "source": [
    "train_2 = pd.read_csv(\"raw_data/train_v2.csv\")\n",
    "train_2.shape"
   ]
  },
  {
   "cell_type": "code",
   "execution_count": 5,
   "id": "fe0df7d7-9c42-49d1-8095-6d721a83f41e",
   "metadata": {},
   "outputs": [],
   "source": [
    "# transaction = pd.concat((transaction,pd.read_csv('churn_comp_refresh/transactions_v2.csv')),axis=0,ignore_index=True).reset_index(drop=True)"
   ]
  },
  {
   "cell_type": "code",
   "execution_count": 6,
   "id": "c1eeafb5-1f99-400a-b0bc-66769c48149e",
   "metadata": {},
   "outputs": [],
   "source": [
    "train_concat =  pd.concat((train_2, pd.read_csv(\"raw_data/train.csv\")),axis=0,ignore_index=True).reset_index(drop=True)"
   ]
  },
  {
   "cell_type": "code",
   "execution_count": 9,
   "id": "21747b95-2bab-4e40-b827-e5c00e2ea6a2",
   "metadata": {},
   "outputs": [
    {
     "data": {
      "text/plain": [
       "(1963891, 2)"
      ]
     },
     "execution_count": 9,
     "metadata": {},
     "output_type": "execute_result"
    }
   ],
   "source": [
    "train_concat.shape"
   ]
  },
  {
   "cell_type": "code",
   "execution_count": 8,
   "id": "ef672589-ebd9-4971-903e-f4556eebc183",
   "metadata": {},
   "outputs": [
    {
     "data": {
      "text/plain": [
       "835711"
      ]
     },
     "execution_count": 8,
     "metadata": {},
     "output_type": "execute_result"
    }
   ],
   "source": [
    "train_concat.duplicated().sum()"
   ]
  },
  {
   "cell_type": "code",
   "execution_count": null,
   "id": "cba5c0ec-e19b-4c7d-95ae-75b5aa5f150c",
   "metadata": {},
   "outputs": [],
   "source": []
  },
  {
   "cell_type": "code",
   "execution_count": null,
   "id": "9842d3d3-3ff9-43b0-905e-0047d8eb9ff9",
   "metadata": {},
   "outputs": [],
   "source": []
  },
  {
   "cell_type": "code",
   "execution_count": null,
   "id": "57bd8e8c-a08a-4ac6-aab1-bef7c41dc80f",
   "metadata": {},
   "outputs": [],
   "source": []
  }
 ],
 "metadata": {
  "kernelspec": {
   "display_name": "Python 3 (ipykernel)",
   "language": "python",
   "name": "python3"
  },
  "language_info": {
   "codemirror_mode": {
    "name": "ipython",
    "version": 3
   },
   "file_extension": ".py",
   "mimetype": "text/x-python",
   "name": "python",
   "nbconvert_exporter": "python",
   "pygments_lexer": "ipython3",
   "version": "3.10.6"
  }
 },
 "nbformat": 4,
 "nbformat_minor": 5
}
